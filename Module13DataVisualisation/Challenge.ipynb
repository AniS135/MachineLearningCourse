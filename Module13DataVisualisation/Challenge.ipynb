{
 "cells": [
  {
   "cell_type": "code",
   "execution_count": 2,
   "metadata": {},
   "outputs": [],
   "source": [
    "import matplotlib.pyplot as plt\n",
    "import numpy as np\n",
    "import pandas as pd"
   ]
  },
  {
   "cell_type": "code",
   "execution_count": 3,
   "metadata": {},
   "outputs": [],
   "source": [
    "# Read a CSV File\n",
    "df = pd.read_csv('movie_metadata.csv')"
   ]
  },
  {
   "cell_type": "code",
   "execution_count": 4,
   "metadata": {},
   "outputs": [
    {
     "name": "stdout",
     "output_type": "stream",
     "text": [
      "   color      director_name  num_critic_for_reviews  duration  \\\n",
      "0  Color      James Cameron                   723.0     178.0   \n",
      "1  Color     Gore Verbinski                   302.0     169.0   \n",
      "2  Color         Sam Mendes                   602.0     148.0   \n",
      "3  Color  Christopher Nolan                   813.0     164.0   \n",
      "4    NaN        Doug Walker                     NaN       NaN   \n",
      "\n",
      "   director_facebook_likes  actor_3_facebook_likes      actor_2_name  \\\n",
      "0                      0.0                   855.0  Joel David Moore   \n",
      "1                    563.0                  1000.0     Orlando Bloom   \n",
      "2                      0.0                   161.0      Rory Kinnear   \n",
      "3                  22000.0                 23000.0    Christian Bale   \n",
      "4                    131.0                     NaN        Rob Walker   \n",
      "\n",
      "   actor_1_facebook_likes        gross                           genres  ...  \\\n",
      "0                  1000.0  760505847.0  Action|Adventure|Fantasy|Sci-Fi  ...   \n",
      "1                 40000.0  309404152.0         Action|Adventure|Fantasy  ...   \n",
      "2                 11000.0  200074175.0        Action|Adventure|Thriller  ...   \n",
      "3                 27000.0  448130642.0                  Action|Thriller  ...   \n",
      "4                   131.0          NaN                      Documentary  ...   \n",
      "\n",
      "  num_user_for_reviews language  country  content_rating       budget  \\\n",
      "0               3054.0  English      USA           PG-13  237000000.0   \n",
      "1               1238.0  English      USA           PG-13  300000000.0   \n",
      "2                994.0  English       UK           PG-13  245000000.0   \n",
      "3               2701.0  English      USA           PG-13  250000000.0   \n",
      "4                  NaN      NaN      NaN             NaN          NaN   \n",
      "\n",
      "   title_year actor_2_facebook_likes imdb_score  aspect_ratio  \\\n",
      "0      2009.0                  936.0        7.9          1.78   \n",
      "1      2007.0                 5000.0        7.1          2.35   \n",
      "2      2015.0                  393.0        6.8          2.35   \n",
      "3      2012.0                23000.0        8.5          2.35   \n",
      "4         NaN                   12.0        7.1           NaN   \n",
      "\n",
      "  movie_facebook_likes  \n",
      "0                33000  \n",
      "1                    0  \n",
      "2                85000  \n",
      "3               164000  \n",
      "4                    0  \n",
      "\n",
      "[5 rows x 28 columns]\n"
     ]
    }
   ],
   "source": [
    "print(df.head())"
   ]
  },
  {
   "cell_type": "code",
   "execution_count": 5,
   "metadata": {},
   "outputs": [
    {
     "data": {
      "text/plain": [
       "Index(['color', 'director_name', 'num_critic_for_reviews', 'duration',\n",
       "       'director_facebook_likes', 'actor_3_facebook_likes', 'actor_2_name',\n",
       "       'actor_1_facebook_likes', 'gross', 'genres', 'actor_1_name',\n",
       "       'movie_title', 'num_voted_users', 'cast_total_facebook_likes',\n",
       "       'actor_3_name', 'facenumber_in_poster', 'plot_keywords',\n",
       "       'movie_imdb_link', 'num_user_for_reviews', 'language', 'country',\n",
       "       'content_rating', 'budget', 'title_year', 'actor_2_facebook_likes',\n",
       "       'imdb_score', 'aspect_ratio', 'movie_facebook_likes'],\n",
       "      dtype='object')"
      ]
     },
     "execution_count": 5,
     "metadata": {},
     "output_type": "execute_result"
    }
   ],
   "source": [
    "df.columns"
   ]
  },
  {
   "cell_type": "code",
   "execution_count": 10,
   "metadata": {},
   "outputs": [],
   "source": [
    "titles = list(df.get('movie_title'))"
   ]
  },
  {
   "cell_type": "code",
   "execution_count": 12,
   "metadata": {},
   "outputs": [],
   "source": [
    "freq_title = {}\n",
    "\n",
    "for title in titles:\n",
    "    length = len(title)\n",
    "    \n",
    "    if freq_title.get(length) is None:\n",
    "        freq_title[length] = 1\n",
    "    else:\n",
    "        freq_title[length] += 1\n"
   ]
  },
  {
   "cell_type": "code",
   "execution_count": 14,
   "metadata": {},
   "outputs": [
    {
     "name": "stdout",
     "output_type": "stream",
     "text": [
      "{7: 138, 41: 17, 8: 226, 22: 138, 55: 3, 12: 330, 13: 306, 24: 85, 39: 13, 35: 30, 17: 239, 18: 219, 43: 8, 16: 264, 44: 9, 15: 284, 42: 14, 23: 109, 11: 328, 36: 21, 19: 213, 10: 294, 27: 69, 20: 176, 32: 43, 26: 74, 25: 82, 14: 274, 21: 138, 31: 47, 51: 5, 6: 139, 5: 91, 63: 1, 3: 8, 9: 267, 38: 24, 28: 51, 29: 65, 34: 31, 57: 1, 47: 4, 4: 35, 37: 18, 48: 4, 46: 7, 40: 14, 45: 4, 49: 4, 50: 3, 30: 36, 33: 21, 2: 5, 59: 2, 60: 1, 56: 1, 84: 1, 54: 2, 87: 1, 53: 2, 72: 1, 69: 1, 80: 1, 67: 1}\n"
     ]
    }
   ],
   "source": [
    "print(freq_title)"
   ]
  },
  {
   "cell_type": "code",
   "execution_count": 17,
   "metadata": {},
   "outputs": [],
   "source": [
    "x = np.array(list(freq_title.keys()))\n",
    "y = np.array(list(freq_title.values()))\n",
    "# print(x, y)"
   ]
  },
  {
   "cell_type": "code",
   "execution_count": 18,
   "metadata": {},
   "outputs": [
    {
     "data": {
      "image/png": "[encoded data removed]",
      "text/plain": [
       "<Figure size 640x480 with 1 Axes>"
      ]
     },
     "metadata": {},
     "output_type": "display_data"
    }
   ],
   "source": [
    "plt.scatter(x, y)\n",
    "plt.xlabel(\"Length of Movie Title\")\n",
    "plt.ylabel(\"Freq Count\")\n",
    "plt.title(\"Movie Data Visualisation\")\n",
    "plt.show()"
   ]
  },
  {
   "cell_type": "code",
   "execution_count": null,
   "metadata": {},
   "outputs": [],
   "source": []
  }
 ],
 "metadata": {
  "kernelspec": {
   "display_name": "Python 3",
   "language": "python",
   "name": "python3"
  },
  "language_info": {
   "codemirror_mode": {
    "name": "ipython",
    "version": 3
   },
   "file_extension": ".py",
   "mimetype": "text/x-python",
   "name": "python",
   "nbconvert_exporter": "python",
   "pygments_lexer": "ipython3",
   "version": "3.10.0"
  },
  "orig_nbformat": 4,
  "vscode": {
   "interpreter": {
    "hash": "369f2c481f4da34e4445cda3fffd2e751bd1c4d706f27375911949ba6bb62e1c"
   }
  }
 },
 "nbformat": 4,
 "nbformat_minor": 2
}
