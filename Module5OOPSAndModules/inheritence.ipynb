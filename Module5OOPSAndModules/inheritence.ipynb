{
 "cells": [
  {
   "cell_type": "code",
   "execution_count": 1,
   "metadata": {},
   "outputs": [],
   "source": [
    "class SchoolMember:\n",
    "    '''Represents any school member.'''\n",
    "    def __init__(self, name, age):\n",
    "        self.name = name\n",
    "        self.age = age\n",
    "        print(f'(Initialized SchoolMember : {self.name})')\n",
    "\n",
    "    def tell(self):\n",
    "        '''Tell my details.'''\n",
    "        print(f'Name : \"{self.name}\" Age : \"{self.age}\"', end=\" \")"
   ]
  },
  {
   "cell_type": "code",
   "execution_count": 2,
   "metadata": {},
   "outputs": [],
   "source": [
    "class Teacher(SchoolMember):\n",
    "    '''Represents a Teacher.'''\n",
    "    def __init__(self, name, age, salary):\n",
    "        SchoolMember.__init__(self, name, age)\n",
    "        self.salary = salary\n",
    "        print(f'Intialized Teacher : {self.name}')\n",
    "\n",
    "    def tell(self):\n",
    "        SchoolMember.tell(self)\n",
    "        print(f'Salary : \"{self.salary}\"')"
   ]
  },
  {
   "cell_type": "code",
   "execution_count": 3,
   "metadata": {},
   "outputs": [],
   "source": [
    "class Student(SchoolMember):\n",
    "    '''Represents a student.'''\n",
    "    def __init__(self, name, age, marks):\n",
    "        SchoolMember.__init__(self, name, age)\n",
    "        self.marks = marks\n",
    "        print(f'Initialized Student : {self.name}')\n",
    "\n",
    "    def tell(self):\n",
    "        SchoolMember.tell(self)\n",
    "        print(f'Marks: \"{self.marks}\"')"
   ]
  },
  {
   "cell_type": "code",
   "execution_count": 4,
   "metadata": {},
   "outputs": [
    {
     "name": "stdout",
     "output_type": "stream",
     "text": [
      "(Initialized SchoolMember : Mr. Ujjwal)\n",
      "Intialized Teacher : Mr. Ujjwal\n",
      "(Initialized SchoolMember : Nikhil)\n",
      "Initialized Student : Nikhil\n"
     ]
    }
   ],
   "source": [
    "t = Teacher('Mr. Ujjwal', 40, 30000)\n",
    "s = Student('Nikhil', 25, 75)"
   ]
  },
  {
   "cell_type": "code",
   "execution_count": 7,
   "metadata": {},
   "outputs": [
    {
     "name": "stdout",
     "output_type": "stream",
     "text": [
      "Name : \"Mr. Ujjwal\" Age : \"40\" Salary : \"30000\"\n"
     ]
    }
   ],
   "source": [
    "t.tell()"
   ]
  },
  {
   "cell_type": "code",
   "execution_count": 8,
   "metadata": {},
   "outputs": [],
   "source": [
    "class A:\n",
    "    x = 10\n",
    "class B(A):\n",
    "    pass\n",
    "class C(A):\n",
    "    pass\n",
    "class D(C):\n",
    "    pass\n",
    "class E(B, D):\n",
    "    pass\n"
   ]
  },
  {
   "cell_type": "code",
   "execution_count": 11,
   "metadata": {},
   "outputs": [
    {
     "data": {
      "text/plain": [
       "(__main__.E, __main__.B, __main__.D, __main__.C, __main__.A, object)"
      ]
     },
     "execution_count": 11,
     "metadata": {},
     "output_type": "execute_result"
    }
   ],
   "source": [
    "E.__mro__"
   ]
  },
  {
   "cell_type": "code",
   "execution_count": null,
   "metadata": {},
   "outputs": [],
   "source": []
  },
  {
   "cell_type": "code",
   "execution_count": null,
   "metadata": {},
   "outputs": [],
   "source": []
  }
 ],
 "metadata": {
  "kernelspec": {
   "display_name": "Python 3",
   "language": "python",
   "name": "python3"
  },
  "language_info": {
   "codemirror_mode": {
    "name": "ipython",
    "version": 3
   },
   "file_extension": ".py",
   "mimetype": "text/x-python",
   "name": "python",
   "nbconvert_exporter": "python",
   "pygments_lexer": "ipython3",
   "version": "3.10.0"
  },
  "orig_nbformat": 4,
  "vscode": {
   "interpreter": {
    "hash": "369f2c481f4da34e4445cda3fffd2e751bd1c4d706f27375911949ba6bb62e1c"
   }
  }
 },
 "nbformat": 4,
 "nbformat_minor": 2
}
