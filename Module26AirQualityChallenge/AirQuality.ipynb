{
 "cells": [
  {
   "cell_type": "code",
   "execution_count": 27,
   "metadata": {},
   "outputs": [],
   "source": [
    "import numpy as np\n",
    "import pandas as pd\n",
    "import matplotlib.pyplot as plt\n",
    "import time\n",
    "from sklearn.linear_model import LinearRegression"
   ]
  },
  {
   "cell_type": "code",
   "execution_count": 28,
   "metadata": {},
   "outputs": [],
   "source": [
    "data = pd.read_csv(\"Train.csv\")"
   ]
  },
  {
   "cell_type": "code",
   "execution_count": 29,
   "metadata": {},
   "outputs": [
    {
     "name": "stdout",
     "output_type": "stream",
     "text": [
      "[[ 2.93416239e-01 -9.45598713e-01 -4.21105147e-01  4.06816021e-01\n",
      "   5.25661832e-01 -8.21546666e+01]\n",
      " [-8.36084081e-01 -1.89228039e-01 -7.76402618e-01 -1.05383124e+00\n",
      "   5.97996852e-01 -4.88979602e+01]\n",
      " [ 2.36425114e-01  1.32836018e-01 -1.47722982e-01  6.99853963e-01\n",
      "  -1.87364163e-01  7.72703707e+01]\n",
      " ...\n",
      " [ 1.04417694e+00 -8.99206485e-01  1.73039905e+00 -1.87105676e+00\n",
      "   4.42519647e-01 -1.07510508e+02]\n",
      " [-1.26917290e+00 -5.05215916e-03  1.85766873e+00 -1.08036482e+00\n",
      "   7.36333937e-01 -4.73415578e+01]\n",
      " [-1.88400025e+00 -8.49427430e-01 -1.45227035e+00  4.88613076e-01\n",
      "   1.45957580e+00 -1.15939003e+02]]\n"
     ]
    }
   ],
   "source": [
    "train = data.values\n",
    "print(train)"
   ]
  },
  {
   "cell_type": "code",
   "execution_count": 30,
   "metadata": {},
   "outputs": [
    {
     "name": "stdout",
     "output_type": "stream",
     "text": [
      "[[ 1.          0.29016495 -0.89871183 -0.37238147  0.44177059  0.52502448]\n",
      " [ 1.         -0.84270473 -0.15822922 -0.72365639 -0.99464217  0.59896038]\n",
      " [ 1.          0.23300381  0.15706968 -0.10209444  0.72994655 -0.20378187]\n",
      " ...\n",
      " [ 1.          1.0431652  -0.8532941   1.75476416 -1.79830858  0.44004223]\n",
      " [ 1.         -1.27708547  0.02207793  1.88059294 -1.0207355   0.74035908]\n",
      " [ 1.         -1.89374689 -0.80456069 -1.39187219  0.52221049  1.47960738]]\n",
      "[ -82.15466656  -48.89796018   77.2703707  ... -107.51050797  -47.34155781\n",
      " -115.93900296]\n"
     ]
    }
   ],
   "source": [
    "X = train[:, :5]\n",
    "Y = train[:, 5]\n",
    "\n",
    "# Normalize\n",
    "u = np.mean(X, axis=0)\n",
    "std = np.std(X, axis=0)\n",
    "\n",
    "X = (X - u) / std\n",
    "\n",
    "# Concatenating array of ones in front of dataset\n",
    "\n",
    "ones = np.ones((X.shape[0], 1))\n",
    "X  = np.hstack((ones, X))\n",
    "print(X)\n",
    "print(Y)"
   ]
  },
  {
   "cell_type": "code",
   "execution_count": 31,
   "metadata": {},
   "outputs": [],
   "source": [
    "def hypothesis(X, theta):\n",
    "    return np.dot(X, theta)\n",
    "\n",
    "def error(X, y, theta):\n",
    "    y_ = hypothesis(X, theta)\n",
    "    error = np.sum((y_ - y) ** 2)\n",
    "\n",
    "    return error / X.shape[0]\n",
    "\n",
    "def gradient(X, Y, theta):\n",
    "    y_ = hypothesis(X, theta)\n",
    "    grad = np.dot(X.T, (y_ - Y))\n",
    "\n",
    "    return grad / X.shape[0]\n",
    "\n",
    "def gradientDescent(X, Y, learning_rate = 0.1, max_epochs = 300):\n",
    "    theta = np.zeros((X.shape[1],))\n",
    "    error_list = []\n",
    "\n",
    "    for i in range(max_epochs):\n",
    "        error_list.append(error(X, Y, theta))\n",
    "        grad = gradient(X, Y, theta)\n",
    "\n",
    "        theta = theta - (learning_rate * grad)\n",
    "    \n",
    "    return theta, error_list\n"
   ]
  },
  {
   "cell_type": "code",
   "execution_count": 32,
   "metadata": {},
   "outputs": [
    {
     "name": "stdout",
     "output_type": "stream",
     "text": [
      "Time taken is 0.054927825927734375\n"
     ]
    },
    {
     "data": {
      "text/plain": [
       "array([ 0.31883538, 29.59359198, 94.65067706,  8.37544469, 45.52303635,\n",
       "        2.46461552])"
      ]
     },
     "execution_count": 32,
     "metadata": {},
     "output_type": "execute_result"
    }
   ],
   "source": [
    "start = time.time()\n",
    "theta, error_list = gradientDescent(X, Y)\n",
    "end = time.time()\n",
    "\n",
    "print(\"Time taken is\", end - start)\n",
    "theta"
   ]
  },
  {
   "cell_type": "code",
   "execution_count": 33,
   "metadata": {},
   "outputs": [
    {
     "data": {
      "image/png": "[encoded data removed]",
      "text/plain": [
       "<Figure size 640x480 with 1 Axes>"
      ]
     },
     "metadata": {},
     "output_type": "display_data"
    }
   ],
   "source": [
    "plt.plot(error_list)\n",
    "plt.show()"
   ]
  },
  {
   "cell_type": "code",
   "execution_count": 34,
   "metadata": {},
   "outputs": [],
   "source": [
    "def r2_square(X, Y, theta):\n",
    "    y_ = hypothesis(X, theta)\n",
    "    avg_y = np.mean(Y)\n",
    "\n",
    "    num = np.sum((y_ - Y) ** 2)\n",
    "    den = np.sum((y_ - avg_y) ** 2)\n",
    "\n",
    "    accuracy = 1 - (num / den)\n",
    "\n",
    "    return accuracy * 100"
   ]
  },
  {
   "cell_type": "code",
   "execution_count": 35,
   "metadata": {},
   "outputs": [
    {
     "name": "stdout",
     "output_type": "stream",
     "text": [
      "96.49040008936005\n"
     ]
    }
   ],
   "source": [
    "accuracy = r2_square(X, Y, theta)\n",
    "\n",
    "print(accuracy)"
   ]
  },
  {
   "cell_type": "code",
   "execution_count": 36,
   "metadata": {},
   "outputs": [],
   "source": [
    "data = pd.read_csv(\"Train.csv\")"
   ]
  },
  {
   "cell_type": "code",
   "execution_count": 37,
   "metadata": {},
   "outputs": [
    {
     "name": "stdout",
     "output_type": "stream",
     "text": [
      "[[ 2.93416239e-01 -9.45598713e-01 -4.21105147e-01  4.06816021e-01\n",
      "   5.25661832e-01 -8.21546666e+01]\n",
      " [-8.36084081e-01 -1.89228039e-01 -7.76402618e-01 -1.05383124e+00\n",
      "   5.97996852e-01 -4.88979602e+01]\n",
      " [ 2.36425114e-01  1.32836018e-01 -1.47722982e-01  6.99853963e-01\n",
      "  -1.87364163e-01  7.72703707e+01]\n",
      " ...\n",
      " [ 1.04417694e+00 -8.99206485e-01  1.73039905e+00 -1.87105676e+00\n",
      "   4.42519647e-01 -1.07510508e+02]\n",
      " [-1.26917290e+00 -5.05215916e-03  1.85766873e+00 -1.08036482e+00\n",
      "   7.36333937e-01 -4.73415578e+01]\n",
      " [-1.88400025e+00 -8.49427430e-01 -1.45227035e+00  4.88613076e-01\n",
      "   1.45957580e+00 -1.15939003e+02]]\n"
     ]
    }
   ],
   "source": [
    "train = data.values\n",
    "print(train)"
   ]
  },
  {
   "cell_type": "code",
   "execution_count": 38,
   "metadata": {},
   "outputs": [],
   "source": [
    "X = train[:, :5]\n",
    "Y = train[:, 5]\n",
    "\n",
    "# Normalize\n",
    "u = np.mean(X, axis=0)\n",
    "std = np.std(X, axis=0)\n",
    "\n",
    "X = (X - u) / std"
   ]
  },
  {
   "cell_type": "code",
   "execution_count": 39,
   "metadata": {},
   "outputs": [],
   "source": [
    "model = LinearRegression()"
   ]
  },
  {
   "cell_type": "code",
   "execution_count": 40,
   "metadata": {},
   "outputs": [
    {
     "data": {
      "text/html": [
       "<style>#sk-container-id-2 {color: black;background-color: white;}#sk-container-id-2 pre{padding: 0;}#sk-container-id-2 div.sk-toggleable {background-color: white;}#sk-container-id-2 label.sk-toggleable__label {cursor: pointer;display: block;width: 100%;margin-bottom: 0;padding: 0.3em;box-sizing: border-box;text-align: center;}#sk-container-id-2 label.sk-toggleable__label-arrow:before {content: \"▸\";float: left;margin-right: 0.25em;color: #696969;}#sk-container-id-2 label.sk-toggleable__label-arrow:hover:before {color: black;}#sk-container-id-2 div.sk-estimator:hover label.sk-toggleable__label-arrow:before {color: black;}#sk-container-id-2 div.sk-toggleable__content {max-height: 0;max-width: 0;overflow: hidden;text-align: left;background-color: #f0f8ff;}#sk-container-id-2 div.sk-toggleable__content pre {margin: 0.2em;color: black;border-radius: 0.25em;background-color: #f0f8ff;}#sk-container-id-2 input.sk-toggleable__control:checked~div.sk-toggleable__content {max-height: 200px;max-width: 100%;overflow: auto;}#sk-container-id-2 input.sk-toggleable__control:checked~label.sk-toggleable__label-arrow:before {content: \"▾\";}#sk-container-id-2 div.sk-estimator input.sk-toggleable__control:checked~label.sk-toggleable__label {background-color: #d4ebff;}#sk-container-id-2 div.sk-label input.sk-toggleable__control:checked~label.sk-toggleable__label {background-color: #d4ebff;}#sk-container-id-2 input.sk-hidden--visually {border: 0;clip: rect(1px 1px 1px 1px);clip: rect(1px, 1px, 1px, 1px);height: 1px;margin: -1px;overflow: hidden;padding: 0;position: absolute;width: 1px;}#sk-container-id-2 div.sk-estimator {font-family: monospace;background-color: #f0f8ff;border: 1px dotted black;border-radius: 0.25em;box-sizing: border-box;margin-bottom: 0.5em;}#sk-container-id-2 div.sk-estimator:hover {background-color: #d4ebff;}#sk-container-id-2 div.sk-parallel-item::after {content: \"\";width: 100%;border-bottom: 1px solid gray;flex-grow: 1;}#sk-container-id-2 div.sk-label:hover label.sk-toggleable__label {background-color: #d4ebff;}#sk-container-id-2 div.sk-serial::before {content: \"\";position: absolute;border-left: 1px solid gray;box-sizing: border-box;top: 0;bottom: 0;left: 50%;z-index: 0;}#sk-container-id-2 div.sk-serial {display: flex;flex-direction: column;align-items: center;background-color: white;padding-right: 0.2em;padding-left: 0.2em;position: relative;}#sk-container-id-2 div.sk-item {position: relative;z-index: 1;}#sk-container-id-2 div.sk-parallel {display: flex;align-items: stretch;justify-content: center;background-color: white;position: relative;}#sk-container-id-2 div.sk-item::before, #sk-container-id-2 div.sk-parallel-item::before {content: \"\";position: absolute;border-left: 1px solid gray;box-sizing: border-box;top: 0;bottom: 0;left: 50%;z-index: -1;}#sk-container-id-2 div.sk-parallel-item {display: flex;flex-direction: column;z-index: 1;position: relative;background-color: white;}#sk-container-id-2 div.sk-parallel-item:first-child::after {align-self: flex-end;width: 50%;}#sk-container-id-2 div.sk-parallel-item:last-child::after {align-self: flex-start;width: 50%;}#sk-container-id-2 div.sk-parallel-item:only-child::after {width: 0;}#sk-container-id-2 div.sk-dashed-wrapped {border: 1px dashed gray;margin: 0 0.4em 0.5em 0.4em;box-sizing: border-box;padding-bottom: 0.4em;background-color: white;}#sk-container-id-2 div.sk-label label {font-family: monospace;font-weight: bold;display: inline-block;line-height: 1.2em;}#sk-container-id-2 div.sk-label-container {text-align: center;}#sk-container-id-2 div.sk-container {/* jupyter's `normalize.less` sets `[hidden] { display: none; }` but bootstrap.min.css set `[hidden] { display: none !important; }` so we also need the `!important` here to be able to override the default hidden behavior on the sphinx rendered scikit-learn.org. See: https://github.com/scikit-learn/scikit-learn/issues/21755 */display: inline-block !important;position: relative;}#sk-container-id-2 div.sk-text-repr-fallback {display: none;}</style><div id=\"sk-container-id-2\" class=\"sk-top-container\"><div class=\"sk-text-repr-fallback\"><pre>LinearRegression()</pre><b>In a Jupyter environment, please rerun this cell to show the HTML representation or trust the notebook. <br />On GitHub, the HTML representation is unable to render, please try loading this page with nbviewer.org.</b></div><div class=\"sk-container\" hidden><div class=\"sk-item\"><div class=\"sk-estimator sk-toggleable\"><input class=\"sk-toggleable__control sk-hidden--visually\" id=\"sk-estimator-id-2\" type=\"checkbox\" checked><label for=\"sk-estimator-id-2\" class=\"sk-toggleable__label sk-toggleable__label-arrow\">LinearRegression</label><div class=\"sk-toggleable__content\"><pre>LinearRegression()</pre></div></div></div></div></div>"
      ],
      "text/plain": [
       "LinearRegression()"
      ]
     },
     "execution_count": 40,
     "metadata": {},
     "output_type": "execute_result"
    }
   ],
   "source": [
    "model.fit(X, Y)"
   ]
  },
  {
   "cell_type": "code",
   "execution_count": 41,
   "metadata": {},
   "outputs": [
    {
     "data": {
      "text/plain": [
       "array([29.59359198, 94.65067706,  8.37544469, 45.52303635,  2.46461552])"
      ]
     },
     "execution_count": 41,
     "metadata": {},
     "output_type": "execute_result"
    }
   ],
   "source": [
    "model.coef_"
   ]
  },
  {
   "cell_type": "code",
   "execution_count": 42,
   "metadata": {},
   "outputs": [
    {
     "data": {
      "text/plain": [
       "0.31883538441581594"
      ]
     },
     "execution_count": 42,
     "metadata": {},
     "output_type": "execute_result"
    }
   ],
   "source": [
    "model.intercept_"
   ]
  },
  {
   "cell_type": "code",
   "execution_count": 43,
   "metadata": {},
   "outputs": [
    {
     "data": {
      "text/plain": [
       "0.9660939669975617"
      ]
     },
     "execution_count": 43,
     "metadata": {},
     "output_type": "execute_result"
    }
   ],
   "source": [
    "model.score(X, Y)"
   ]
  },
  {
   "cell_type": "code",
   "execution_count": 49,
   "metadata": {},
   "outputs": [],
   "source": [
    "def mini_batch_gradient_descent(X, y, batch_size = 200, learning_rate = 0.01, max_iters = 10):\n",
    "    n = X.shape[1]\n",
    "    theta = np.zeros((n,))\n",
    "    error_list = []\n",
    "\n",
    "    data = np.hstack((X, y.reshape(-1, 1)))\n",
    "\n",
    "    for i in range(max_iters) :\n",
    "\n",
    "        # Mini - Batch Gradient Descent\n",
    "        np.random.shuffle(data)\n",
    "        m = data.shape[0]\n",
    "        total_batches = m // batch_size\n",
    "\n",
    "        for j in range(total_batches):\n",
    "            batch_data = data[j * batch_size : (j + 1) * batch_size, :]\n",
    "            x_batch = batch_data[:, :-1]\n",
    "            y_batch = batch_data[:, -1]\n",
    "\n",
    "            batch_gradient = gradient(x_batch, y_batch, theta)\n",
    "            theta = theta - learning_rate * batch_gradient\n",
    "\n",
    "            e = error(x_batch, y_batch, theta)\n",
    "            error_list.append(e)\n",
    "\n",
    "    return theta, error_list"
   ]
  },
  {
   "cell_type": "code",
   "execution_count": 50,
   "metadata": {},
   "outputs": [
    {
     "name": "stdout",
     "output_type": "stream",
     "text": [
      "[[ 1.          0.29016495 -0.89871183 -0.37238147  0.44177059  0.52502448]\n",
      " [ 1.         -0.84270473 -0.15822922 -0.72365639 -0.99464217  0.59896038]\n",
      " [ 1.          0.23300381  0.15706968 -0.10209444  0.72994655 -0.20378187]\n",
      " ...\n",
      " [ 1.          1.0431652  -0.8532941   1.75476416 -1.79830858  0.44004223]\n",
      " [ 1.         -1.27708547  0.02207793  1.88059294 -1.0207355   0.74035908]\n",
      " [ 1.         -1.89374689 -0.80456069 -1.39187219  0.52221049  1.47960738]]\n",
      "[ -82.15466656  -48.89796018   77.2703707  ... -107.51050797  -47.34155781\n",
      " -115.93900296]\n"
     ]
    }
   ],
   "source": [
    "X = train[:, :5]\n",
    "Y = train[:, 5]\n",
    "\n",
    "# Normalize\n",
    "u = np.mean(X, axis=0)\n",
    "std = np.std(X, axis=0)\n",
    "\n",
    "X = (X - u) / std\n",
    "\n",
    "# Concatenating array of ones in front of dataset\n",
    "\n",
    "ones = np.ones((X.shape[0], 1))\n",
    "X  = np.hstack((ones, X))\n",
    "print(X)\n",
    "print(Y)"
   ]
  },
  {
   "cell_type": "code",
   "execution_count": 51,
   "metadata": {},
   "outputs": [],
   "source": [
    "theta, error_list = mini_batch_gradient_descent(X, Y, batch_size= 1)"
   ]
  },
  {
   "cell_type": "code",
   "execution_count": 52,
   "metadata": {},
   "outputs": [
    {
     "data": {
      "image/png": "[encoded data removed]",
      "text/plain": [
       "<Figure size 640x480 with 1 Axes>"
      ]
     },
     "metadata": {},
     "output_type": "display_data"
    }
   ],
   "source": [
    "plt.plot(error_list)\n",
    "plt.show()"
   ]
  },
  {
   "cell_type": "code",
   "execution_count": 53,
   "metadata": {},
   "outputs": [
    {
     "name": "stdout",
     "output_type": "stream",
     "text": [
      "96.5628333051637\n"
     ]
    }
   ],
   "source": [
    "print(r2_square(X, Y, theta))"
   ]
  },
  {
   "cell_type": "code",
   "execution_count": null,
   "metadata": {},
   "outputs": [],
   "source": []
  },
  {
   "cell_type": "code",
   "execution_count": null,
   "metadata": {},
   "outputs": [],
   "source": []
  },
  {
   "cell_type": "code",
   "execution_count": null,
   "metadata": {},
   "outputs": [],
   "source": []
  }
 ],
 "metadata": {
  "kernelspec": {
   "display_name": "Python 3",
   "language": "python",
   "name": "python3"
  },
  "language_info": {
   "codemirror_mode": {
    "name": "ipython",
    "version": 3
   },
   "file_extension": ".py",
   "mimetype": "text/x-python",
   "name": "python",
   "nbconvert_exporter": "python",
   "pygments_lexer": "ipython3",
   "version": "3.10.0"
  },
  "orig_nbformat": 4,
  "vscode": {
   "interpreter": {
    "hash": "369f2c481f4da34e4445cda3fffd2e751bd1c4d706f27375911949ba6bb62e1c"
   }
  }
 },
 "nbformat": 4,
 "nbformat_minor": 2
}
