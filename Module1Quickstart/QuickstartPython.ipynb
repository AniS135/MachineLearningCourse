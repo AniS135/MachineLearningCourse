{
 "cells": [
  {
   "cell_type": "code",
   "execution_count": 1,
   "metadata": {},
   "outputs": [
    {
     "name": "stdout",
     "output_type": "stream",
     "text": [
      "Hello World\n"
     ]
    }
   ],
   "source": [
    "a = \"Hello World\"\n",
    "print(a)\n",
    "\n",
    "# input in python"
   ]
  },
  {
   "cell_type": "code",
   "execution_count": 2,
   "metadata": {},
   "outputs": [
    {
     "name": "stdout",
     "output_type": "stream",
     "text": [
      "10\n"
     ]
    }
   ],
   "source": [
    "a = 10\n",
    "\n",
    "print(a)"
   ]
  },
  {
   "cell_type": "code",
   "execution_count": 3,
   "metadata": {},
   "outputs": [
    {
     "name": "stdout",
     "output_type": "stream",
     "text": [
      "<class 'int'>\n"
     ]
    }
   ],
   "source": [
    "print(type(a))"
   ]
  },
  {
   "cell_type": "code",
   "execution_count": 4,
   "metadata": {},
   "outputs": [],
   "source": [
    "number = input()"
   ]
  },
  {
   "cell_type": "code",
   "execution_count": 5,
   "metadata": {},
   "outputs": [
    {
     "name": "stdout",
     "output_type": "stream",
     "text": [
      "<class 'str'>\n"
     ]
    }
   ],
   "source": [
    "print(type(number))"
   ]
  },
  {
   "cell_type": "code",
   "execution_count": 6,
   "metadata": {},
   "outputs": [
    {
     "name": "stdout",
     "output_type": "stream",
     "text": [
      "['1', '2', '3', '4', '5']\n"
     ]
    }
   ],
   "source": [
    "numbers_list_chars = \"1 2 3 4 5\".split()\n",
    "print(numbers_list_chars)"
   ]
  },
  {
   "cell_type": "code",
   "execution_count": 7,
   "metadata": {},
   "outputs": [
    {
     "name": "stdout",
     "output_type": "stream",
     "text": [
      "[1, 2, 3, 4, 5]\n"
     ]
    }
   ],
   "source": [
    "numbers_list_int = [int(x) for x in numbers_list_chars]\n",
    "print(numbers_list_int)"
   ]
  },
  {
   "cell_type": "code",
   "execution_count": 14,
   "metadata": {},
   "outputs": [
    {
     "name": "stdout",
     "output_type": "stream",
     "text": [
      "Bulbasaur\n",
      "Pikachu\n",
      "Charmender\n",
      "Invalid\n",
      "Invalid\n"
     ]
    }
   ],
   "source": [
    "for i in numbers_list_int:\n",
    "    if i == 1:\n",
    "        print(\"Bulbasaur\")\n",
    "    elif i == 2:\n",
    "        print(\"Pikachu\")\n",
    "    elif i == 3:\n",
    "        print(\"Charmender\")\n",
    "    else:\n",
    "        print(\"Invalid\")"
   ]
  },
  {
   "cell_type": "code",
   "execution_count": 15,
   "metadata": {},
   "outputs": [],
   "source": [
    "# Dictionaries in python (HashMaps)\n",
    "pokemon_map = {\n",
    "    1 : \"Bulbasaur\",\n",
    "    2 : \"Pikachu\",\n",
    "    3 : \"Charmender\"\n",
    "}"
   ]
  },
  {
   "cell_type": "code",
   "execution_count": 16,
   "metadata": {},
   "outputs": [
    {
     "data": {
      "text/plain": [
       "'Pikachu'"
      ]
     },
     "execution_count": 16,
     "metadata": {},
     "output_type": "execute_result"
    }
   ],
   "source": [
    "pokemon_map[2]"
   ]
  },
  {
   "cell_type": "code",
   "execution_count": 19,
   "metadata": {},
   "outputs": [
    {
     "name": "stdout",
     "output_type": "stream",
     "text": [
      "Pokemon Not Found!\n"
     ]
    }
   ],
   "source": [
    "if pokemon_map.get(5) is None :\n",
    "    print(\"Pokemon Not Found!\")\n",
    "else:\n",
    "    print(pokemon_map.get(5))"
   ]
  },
  {
   "cell_type": "code",
   "execution_count": 20,
   "metadata": {},
   "outputs": [
    {
     "name": "stdout",
     "output_type": "stream",
     "text": [
      "Bulbasaur\n",
      "Pikachu\n",
      "Charmender\n",
      "Pokemon Not Found!\n",
      "Pokemon Not Found!\n"
     ]
    }
   ],
   "source": [
    "for i in numbers_list_int:\n",
    "    if pokemon_map.get(i) is None :\n",
    "        print(\"Pokemon Not Found!\")\n",
    "    else:\n",
    "        print(pokemon_map.get(i))"
   ]
  },
  {
   "cell_type": "code",
   "execution_count": 22,
   "metadata": {},
   "outputs": [
    {
     "name": "stdout",
     "output_type": "stream",
     "text": [
      "<class 'tuple'>\n",
      "<class 'list'>\n"
     ]
    }
   ],
   "source": [
    "pokemons = [(\"Bulbasaur\", 200), (\"Pikachu\",250), (\"Charmender\", 900, 700)]\n",
    "print(type(pokemons[0]))\n",
    "print(type(pokemons))"
   ]
  },
  {
   "cell_type": "code",
   "execution_count": 23,
   "metadata": {},
   "outputs": [],
   "source": [
    "t = (\"A\", \"B\", \"C\") # Read Only list"
   ]
  },
  {
   "cell_type": "code",
   "execution_count": 25,
   "metadata": {},
   "outputs": [],
   "source": [
    "def printPokemons(numbers):\n",
    "    pokemon_map = {\n",
    "        1 : \"Bulbasaur\",\n",
    "        2 : \"Pikachu\",\n",
    "        3 : \"Charmender\"\n",
    "    }\n",
    "    \n",
    "    for i in numbers:\n",
    "        if pokemon_map.get(i) is None :\n",
    "            print(\"Pokemon Not Found!\")\n",
    "        else:\n",
    "            print(pokemon_map.get(i))\n",
    "    \n",
    "    return"
   ]
  },
  {
   "cell_type": "code",
   "execution_count": 28,
   "metadata": {},
   "outputs": [
    {
     "name": "stdout",
     "output_type": "stream",
     "text": [
      "7 2  5 2 14 1  2 3\n",
      "Pokemon Not Found!\n",
      "Pikachu\n",
      "Pokemon Not Found!\n",
      "Pikachu\n",
      "Pokemon Not Found!\n",
      "Bulbasaur\n",
      "Pikachu\n",
      "Charmender\n"
     ]
    }
   ],
   "source": [
    "numbers = [int(x) for x in input().split()]\n",
    "printPokemons(numbers)"
   ]
  },
  {
   "cell_type": "code",
   "execution_count": 27,
   "metadata": {},
   "outputs": [
    {
     "name": "stdout",
     "output_type": "stream",
     "text": [
      "Pokemon Not Found!\n",
      "Pokemon Not Found!\n",
      "Bulbasaur\n",
      "Charmender\n",
      "Pikachu\n",
      "Pokemon Not Found!\n"
     ]
    }
   ],
   "source": [
    "printPokemons(numbers)"
   ]
  }
 ],
 "metadata": {
  "kernelspec": {
   "display_name": "base",
   "language": "python",
   "name": "python3"
  },
  "language_info": {
   "codemirror_mode": {
    "name": "ipython",
    "version": 3
   },
   "file_extension": ".py",
   "mimetype": "text/x-python",
   "name": "python",
   "nbconvert_exporter": "python",
   "pygments_lexer": "ipython3",
   "version": "3.8.5"
  },
  "vscode": {
   "interpreter": {
    "hash": "e09c12f18a2be602246ce7147d4f07d1d3f1fa24fa5d378fb578b8174ce72dfc"
   }
  }
 },
 "nbformat": 4,
 "nbformat_minor": 4
}
