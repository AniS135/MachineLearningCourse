{
 "cells": [
  {
   "cell_type": "code",
   "execution_count": 96,
   "metadata": {},
   "outputs": [],
   "source": [
    "import numpy as np\n",
    "import pandas as pd\n",
    "import matplotlib.pyplot as plt\n",
    "import seaborn as sns\n",
    "from sklearn.model_selection import train_test_split"
   ]
  },
  {
   "cell_type": "code",
   "execution_count": 97,
   "metadata": {},
   "outputs": [],
   "source": [
    "df = pd.read_csv('Datasets/diabetes.csv')"
   ]
  },
  {
   "cell_type": "code",
   "execution_count": 100,
   "metadata": {},
   "outputs": [
    {
     "name": "stdout",
     "output_type": "stream",
     "text": [
      "(768, 9)\n"
     ]
    }
   ],
   "source": [
    "data = df.values\n",
    "print(data.shape)"
   ]
  },
  {
   "cell_type": "code",
   "execution_count": 104,
   "metadata": {},
   "outputs": [
    {
     "name": "stdout",
     "output_type": "stream",
     "text": [
      "(768, 8) (768,)\n"
     ]
    }
   ],
   "source": [
    "X = data[: , :-1]\n",
    "Y = data[:, -1]\n",
    "\n",
    "print(X.shape, Y.shape)"
   ]
  },
  {
   "cell_type": "code",
   "execution_count": 106,
   "metadata": {},
   "outputs": [
    {
     "name": "stdout",
     "output_type": "stream",
     "text": [
      "(614, 8) (614,)\n",
      "(154, 8) (154,)\n"
     ]
    }
   ],
   "source": [
    "X_train, X_test, Y_train, Y_test = train_test_split(X, Y, test_size=0.2, random_state=40)\n",
    "print(X_train.shape, Y_train.shape)\n",
    "print(X_test.shape, Y_test.shape)"
   ]
  },
  {
   "cell_type": "code",
   "execution_count": 107,
   "metadata": {},
   "outputs": [
    {
     "name": "stdout",
     "output_type": "stream",
     "text": [
      "(array([0., 1.]), array([405, 209], dtype=int64))\n"
     ]
    }
   ],
   "source": [
    "freq = np.unique(Y_train, return_counts=True)\n",
    "print(freq)"
   ]
  },
  {
   "cell_type": "code",
   "execution_count": 108,
   "metadata": {},
   "outputs": [
    {
     "data": {
      "text/plain": [
       "<AxesSubplot: >"
      ]
     },
     "execution_count": 108,
     "metadata": {},
     "output_type": "execute_result"
    },
    {
     "data": {
      "image/png": "[encoded data removed]",
      "text/plain": [
       "<Figure size 640x480 with 1 Axes>"
      ]
     },
     "metadata": {},
     "output_type": "display_data"
    }
   ],
   "source": [
    "sns.barplot(x=freq[0], y=freq[1])"
   ]
  },
  {
   "cell_type": "code",
   "execution_count": 109,
   "metadata": {},
   "outputs": [],
   "source": [
    "def dist(x1, x2):\n",
    "    return np.sqrt(sum((x1 - x2) ** 2))\n",
    "\n",
    "def knn(X, Y, queryX, k = 5):\n",
    "    vals = []\n",
    "\n",
    "    for i in range(X.shape[0]):\n",
    "        d = dist(queryX, X[i])\n",
    "        vals.append((d, Y[i]))\n",
    "    \n",
    "    vals = sorted(vals, key= lambda x : x[0])\n",
    "\n",
    "    vals = vals[:k]\n",
    "\n",
    "    vals = np.array(vals)\n",
    "\n",
    "    new_vals = np.unique(vals[:, 1], return_counts=True)\n",
    "\n",
    "    index = new_vals[1].argmax()\n",
    "    pred = new_vals[0][index]\n",
    "\n",
    "    return pred\n",
    "\n",
    "# def dist(x1, x2):\n",
    "#     return np.sqrt(sum((x1 - x2) ** 2))\n",
    "\n",
    "# def knn(X, Y, queryPoint, k = 5):\n",
    "#     vals = []\n",
    "#     m = X.shape[0]\n",
    "\n",
    "#     for i in range(m):\n",
    "#         d = dist(X[i], queryPoint)\n",
    "#         vals.append((d, Y[i]))\n",
    "    \n",
    "#     vals = sorted(vals, key= lambda x : x[0])\n",
    "    \n",
    "#     # Nearest/First k points\n",
    "#     vals = vals[:k]\n",
    "\n",
    "#     vals = np.array(vals)\n",
    "\n",
    "#     new_vals = np.unique(vals[:, 1], return_counts= True)\n",
    "#     # print(new_vals)\n",
    "\n",
    "#     index = new_vals[1].argmax()\n",
    "#     pred = new_vals[0][index]\n",
    "\n",
    "#     return pred"
   ]
  },
  {
   "cell_type": "code",
   "execution_count": 110,
   "metadata": {},
   "outputs": [],
   "source": [
    "def test(X_train, Y_train, X, Y):\n",
    "    correct = 0\n",
    "    size = X.shape[0]\n",
    "\n",
    "    for i in range(size):\n",
    "        pred_y = knn(X_train, Y_train, X[i])\n",
    "\n",
    "        if int(pred_y) == Y[i]:\n",
    "            correct += 1\n",
    "    \n",
    "    return correct/size"
   ]
  },
  {
   "cell_type": "code",
   "execution_count": 111,
   "metadata": {},
   "outputs": [
    {
     "name": "stdout",
     "output_type": "stream",
     "text": [
      "0.7532467532467533\n"
     ]
    }
   ],
   "source": [
    "ans = test(X_train, Y_train, X_test, Y_test)\n",
    "print(ans)"
   ]
  },
  {
   "cell_type": "code",
   "execution_count": null,
   "metadata": {},
   "outputs": [],
   "source": []
  },
  {
   "cell_type": "code",
   "execution_count": null,
   "metadata": {},
   "outputs": [],
   "source": []
  },
  {
   "cell_type": "code",
   "execution_count": null,
   "metadata": {},
   "outputs": [],
   "source": []
  }
 ],
 "metadata": {
  "kernelspec": {
   "display_name": "Python 3",
   "language": "python",
   "name": "python3"
  },
  "language_info": {
   "codemirror_mode": {
    "name": "ipython",
    "version": 3
   },
   "file_extension": ".py",
   "mimetype": "text/x-python",
   "name": "python",
   "nbconvert_exporter": "python",
   "pygments_lexer": "ipython3",
   "version": "3.10.0"
  },
  "orig_nbformat": 4,
  "vscode": {
   "interpreter": {
    "hash": "369f2c481f4da34e4445cda3fffd2e751bd1c4d706f27375911949ba6bb62e1c"
   }
  }
 },
 "nbformat": 4,
 "nbformat_minor": 2
}
